{
 "cells": [
  {
   "cell_type": "markdown",
   "id": "f5168b36",
   "metadata": {
    "collapsed": false,
    "id": "JKRGifpzkCB7",
    "jupyter": {
     "outputs_hidden": false
    },
    "papermill": {
     "duration": 0.003904,
     "end_time": "2024-11-27T07:24:37.540381",
     "exception": false,
     "start_time": "2024-11-27T07:24:37.536477",
     "status": "completed"
    },
    "tags": []
   },
   "source": [
    "## Import the packages"
   ]
  },
  {
   "cell_type": "code",
   "execution_count": 1,
   "id": "1146449b",
   "metadata": {
    "execution": {
     "iopub.execute_input": "2024-11-27T07:24:37.549710Z",
     "iopub.status.busy": "2024-11-27T07:24:37.549397Z",
     "iopub.status.idle": "2024-11-27T07:25:45.119328Z",
     "shell.execute_reply": "2024-11-27T07:25:45.118439Z"
    },
    "id": "YPwr54F1kCB8",
    "outputId": "d6b5d3b1-129f-4b77-e00a-c3efc01a82ef",
    "papermill": {
     "duration": 67.577041,
     "end_time": "2024-11-27T07:25:45.121413",
     "exception": false,
     "start_time": "2024-11-27T07:24:37.544372",
     "status": "completed"
    },
    "tags": []
   },
   "outputs": [
    {
     "name": "stdout",
     "output_type": "stream",
     "text": [
      "Requirement already satisfied: swig in /opt/homebrew/anaconda3/envs/learning/lib/python3.10/site-packages (4.3.1)\n",
      "zsh:1: no matches found: gymnasium[box2d]\n",
      "Requirement already satisfied: gymnasium in /opt/homebrew/anaconda3/envs/learning/lib/python3.10/site-packages (1.1.1)\n",
      "Requirement already satisfied: numpy>=1.21.0 in /opt/homebrew/anaconda3/envs/learning/lib/python3.10/site-packages (from gymnasium) (2.1.3)\n",
      "Requirement already satisfied: cloudpickle>=1.2.0 in /opt/homebrew/anaconda3/envs/learning/lib/python3.10/site-packages (from gymnasium) (3.1.1)\n",
      "Requirement already satisfied: typing-extensions>=4.3.0 in /opt/homebrew/anaconda3/envs/learning/lib/python3.10/site-packages (from gymnasium) (4.14.0)\n",
      "Requirement already satisfied: farama-notifications>=0.0.1 in /opt/homebrew/anaconda3/envs/learning/lib/python3.10/site-packages (from gymnasium) (0.0.4)\n"
     ]
    }
   ],
   "source": [
    "!pip install swig\n",
    "!pip install gymnasium[box2d]\n",
    "!pip install gymnasium"
   ]
  },
  {
   "cell_type": "code",
   "execution_count": 2,
   "id": "eeaceb34",
   "metadata": {
    "execution": {
     "iopub.execute_input": "2024-11-27T07:25:45.135289Z",
     "iopub.status.busy": "2024-11-27T07:25:45.134999Z",
     "iopub.status.idle": "2024-11-27T07:25:49.435635Z",
     "shell.execute_reply": "2024-11-27T07:25:49.434905Z"
    },
    "id": "sTVJ_PtwkCB8",
    "papermill": {
     "duration": 4.309757,
     "end_time": "2024-11-27T07:25:49.437694",
     "exception": false,
     "start_time": "2024-11-27T07:25:45.127937",
     "status": "completed"
    },
    "tags": []
   },
   "outputs": [],
   "source": [
    "import numpy as np\n",
    "import pandas as pd\n",
    "from collections import deque\n",
    "import matplotlib.pyplot as plt\n",
    "\n",
    "# PyTorch\n",
    "import torch\n",
    "import torch.nn as nn\n",
    "import torch.nn.functional as F\n",
    "import torch.optim as optim\n",
    "from torch.distributions import Categorical\n",
    "\n",
    "# Gym\n",
    "import gymnasium as gym"
   ]
  },
  {
   "cell_type": "code",
   "execution_count": 3,
   "id": "185c68ff",
   "metadata": {
    "execution": {
     "iopub.execute_input": "2024-11-27T07:25:49.464218Z",
     "iopub.status.busy": "2024-11-27T07:25:49.463257Z",
     "iopub.status.idle": "2024-11-27T07:25:49.527569Z",
     "shell.execute_reply": "2024-11-27T07:25:49.526804Z"
    },
    "id": "ifNzeQN9kCB9",
    "papermill": {
     "duration": 0.073116,
     "end_time": "2024-11-27T07:25:49.529332",
     "exception": false,
     "start_time": "2024-11-27T07:25:49.456216",
     "status": "completed"
    },
    "tags": []
   },
   "outputs": [],
   "source": [
    "device = torch.device(\"cuda:0\" if torch.cuda.is_available() else \"cpu\")"
   ]
  },
  {
   "cell_type": "code",
   "execution_count": 4,
   "id": "bdca04dd",
   "metadata": {
    "execution": {
     "iopub.execute_input": "2024-11-27T07:25:49.555287Z",
     "iopub.status.busy": "2024-11-27T07:25:49.554509Z",
     "iopub.status.idle": "2024-11-27T07:25:49.568036Z",
     "shell.execute_reply": "2024-11-27T07:25:49.567244Z"
    },
    "id": "PeZ_2RQYkCB-",
    "papermill": {
     "duration": 0.022203,
     "end_time": "2024-11-27T07:25:49.569847",
     "exception": false,
     "start_time": "2024-11-27T07:25:49.547644",
     "status": "completed"
    },
    "tags": []
   },
   "outputs": [],
   "source": [
    "env_id = \"CartPole-v1\"\n",
    "#env_id=\"LunarLander-v2\"\n",
    "# Create the env\n",
    "env = gym.make(env_id)\n",
    "\n",
    "\n",
    "# Get the state space and action space\n",
    "s_size = env.observation_space.shape[0]\n",
    "a_size = env.action_space.n"
   ]
  },
  {
   "cell_type": "code",
   "execution_count": 6,
   "id": "df1093eb",
   "metadata": {
    "execution": {
     "iopub.execute_input": "2024-11-27T07:25:49.595500Z",
     "iopub.status.busy": "2024-11-27T07:25:49.595232Z",
     "iopub.status.idle": "2024-11-27T07:25:49.600917Z",
     "shell.execute_reply": "2024-11-27T07:25:49.600153Z"
    },
    "id": "45sFPXAikCB_",
    "papermill": {
     "duration": 0.014113,
     "end_time": "2024-11-27T07:25:49.602576",
     "exception": false,
     "start_time": "2024-11-27T07:25:49.588463",
     "status": "completed"
    },
    "tags": []
   },
   "outputs": [],
   "source": [
    "#Using a neural network to learn our actor (policy) parameters\n",
    "\n",
    "class Actor(nn.Module):\n",
    "    def __init__(self, s_size, a_size, h_size):\n",
    "        super(Actor, self).__init__()\n",
    "        self.fc1 = nn.Linear(s_size, h_size)\n",
    "        self.fc2 = nn.Linear(h_size, a_size)\n",
    "\n",
    "    def forward(self, x):\n",
    "        x = F.relu(self.fc1(x))\n",
    "        x = self.fc2(x)\n",
    "        return F.softmax(x, dim=1)\n",
    "\n",
    "    def act(self, state):\n",
    "\n",
    "        probs = self.forward(state)\n",
    "        m = Categorical(probs)\n",
    "        action = m.sample()\n",
    "        return action.item(), m.log_prob(action)"
   ]
  },
  {
   "cell_type": "code",
   "execution_count": 7,
   "id": "4794f4fe",
   "metadata": {
    "execution": {
     "iopub.execute_input": "2024-11-27T07:25:49.615635Z",
     "iopub.status.busy": "2024-11-27T07:25:49.615390Z",
     "iopub.status.idle": "2024-11-27T07:25:49.620308Z",
     "shell.execute_reply": "2024-11-27T07:25:49.619368Z"
    },
    "id": "0h8VYnDIkCB_",
    "papermill": {
     "duration": 0.013482,
     "end_time": "2024-11-27T07:25:49.622087",
     "exception": false,
     "start_time": "2024-11-27T07:25:49.608605",
     "status": "completed"
    },
    "tags": []
   },
   "outputs": [],
   "source": [
    "#Using a neural network to learn state value\n",
    "class Critic(nn.Module):\n",
    "\n",
    "    #Takes in state\n",
    "    def __init__(self, s_size, h_size):\n",
    "        super(Critic, self).__init__()\n",
    "\n",
    "        # two fully connected layers\n",
    "        self.input_layer = nn.Linear(s_size, h_size)\n",
    "        self.output_layer = nn.Linear(h_size, 1)\n",
    "\n",
    "    def forward(self, x):\n",
    "\n",
    "        #input layer\n",
    "        x = self.input_layer(x)\n",
    "\n",
    "        #activiation relu\n",
    "        x = F.relu(x)\n",
    "\n",
    "        #get state value\n",
    "        state_value = self.output_layer(x)\n",
    "\n",
    "        return state_value"
   ]
  },
  {
   "cell_type": "code",
   "execution_count": 8,
   "id": "bb7fff02",
   "metadata": {
    "execution": {
     "iopub.execute_input": "2024-11-27T07:25:49.648121Z",
     "iopub.status.busy": "2024-11-27T07:25:49.647482Z",
     "iopub.status.idle": "2024-11-27T07:25:49.653597Z",
     "shell.execute_reply": "2024-11-27T07:25:49.652776Z"
    },
    "id": "uED6LTZIkCCA",
    "papermill": {
     "duration": 0.014919,
     "end_time": "2024-11-27T07:25:49.655305",
     "exception": false,
     "start_time": "2024-11-27T07:25:49.640386",
     "status": "completed"
    },
    "tags": []
   },
   "outputs": [],
   "source": [
    " def generate_trajectory(actor, critic, max_t):\n",
    "        saved_log_probs = []\n",
    "        rewards = []\n",
    "        state_values=[]\n",
    "\n",
    "        state, _ = env.reset()\n",
    "        for t in range(max_t):\n",
    "            state=torch.from_numpy(state).float().unsqueeze(0).to(device)\n",
    "\n",
    "            action, log_prob = actor.act(state)\n",
    "\n",
    "\n",
    "\n",
    "            # get the state value from th critic network\n",
    "            state_val= critic(state)\n",
    "\n",
    "\n",
    "            next_state, reward, done,truncated , _ = env.step(action)\n",
    "\n",
    "            # add te obtained results to their relative lists ==> saved_log_probs, rewards, state_values\n",
    "            rewards.append(reward)\n",
    "            saved_log_probs.append(log_prob)\n",
    "            state_values.append(state_val)\n",
    "            # add code here\n",
    "            # add code here\n",
    "            # add code here\n",
    "\n",
    "            state=next_state\n",
    "\n",
    "            if done:\n",
    "\n",
    "                break\n",
    "\n",
    "        return  saved_log_probs, rewards, state_values"
   ]
  },
  {
   "cell_type": "code",
   "execution_count": 9,
   "id": "73cb247e",
   "metadata": {
    "execution": {
     "iopub.execute_input": "2024-11-27T07:25:49.669892Z",
     "iopub.status.busy": "2024-11-27T07:25:49.669360Z",
     "iopub.status.idle": "2024-11-27T07:25:49.674028Z",
     "shell.execute_reply": "2024-11-27T07:25:49.673209Z"
    },
    "id": "WTWJTxUykCCA",
    "papermill": {
     "duration": 0.014369,
     "end_time": "2024-11-27T07:25:49.675671",
     "exception": false,
     "start_time": "2024-11-27T07:25:49.661302",
     "status": "completed"
    },
    "tags": []
   },
   "outputs": [],
   "source": [
    "def computer_cumulative_reward(rewards, max_t,gamma):\n",
    "\n",
    "        returns = deque(maxlen=max_t)\n",
    "        n_steps = len(rewards)\n",
    "        for t in range(n_steps)[::-1]:\n",
    "          disc_return_t = (returns[0] if len(returns)>0 else 0)\n",
    "          returns.appendleft( rewards[t]+gamma*disc_return_t)\n",
    "        return returns"
   ]
  },
  {
   "cell_type": "code",
   "execution_count": 12,
   "id": "115cbc29",
   "metadata": {
    "execution": {
     "iopub.execute_input": "2024-11-27T07:25:49.688919Z",
     "iopub.status.busy": "2024-11-27T07:25:49.688624Z",
     "iopub.status.idle": "2024-11-27T07:25:49.692985Z",
     "shell.execute_reply": "2024-11-27T07:25:49.692142Z"
    },
    "id": "VPJ-q3ARkCCA",
    "papermill": {
     "duration": 0.01295,
     "end_time": "2024-11-27T07:25:49.694758",
     "exception": false,
     "start_time": "2024-11-27T07:25:49.681808",
     "status": "completed"
    },
    "tags": []
   },
   "outputs": [],
   "source": [
    "def returns_standardization(returns):\n",
    "        eps = np.finfo(np.float32).eps.item()\n",
    "        ## eps is the smallest representable float, which is\n",
    "        # added to the standard deviation of the returns to avoid numerical instabilities\n",
    "        returns = torch.tensor(returns).to(device)\n",
    "        returns = (returns - returns.mean()) / (returns.std() + eps)\n",
    "\n",
    "        return returns"
   ]
  },
  {
   "cell_type": "code",
   "execution_count": 13,
   "id": "c2b3f251",
   "metadata": {
    "execution": {
     "iopub.execute_input": "2024-11-27T07:25:49.708947Z",
     "iopub.status.busy": "2024-11-27T07:25:49.708369Z",
     "iopub.status.idle": "2024-11-27T07:25:49.713444Z",
     "shell.execute_reply": "2024-11-27T07:25:49.712582Z"
    },
    "id": "UJdIdV53kCCA",
    "papermill": {
     "duration": 0.013826,
     "end_time": "2024-11-27T07:25:49.715155",
     "exception": false,
     "start_time": "2024-11-27T07:25:49.701329",
     "status": "completed"
    },
    "tags": []
   },
   "outputs": [],
   "source": [
    "\n",
    "def train_actor(actorOptimizer,saved_log_probs, returns,state_values):\n",
    "\n",
    "\n",
    "        state_values= torch.stack(state_values).squeeze()\n",
    "\n",
    "        #calculate Advantage for actor\n",
    "        advantages = returns - state_values.detach()\n",
    "\n",
    "        #convect the advantages to a tensor\n",
    "        advantages = torch.tensor(advantages).to(device)\n",
    "\n",
    "        actor_loss = []\n",
    "        # compute the actor loss\n",
    "        for log_prob, advantage in zip(saved_log_probs, advantages):\n",
    "            actor_loss.append(-log_prob * advantage)\n",
    "\n",
    "\n",
    "        actor_loss = torch.cat(actor_loss).sum()\n",
    "        # Backpropagate actor\n",
    "        actorOptimizer.zero_grad()\n",
    "        actor_loss.backward()\n",
    "        actorOptimizer.step()\n"
   ]
  },
  {
   "cell_type": "code",
   "execution_count": 14,
   "id": "e1065211",
   "metadata": {
    "execution": {
     "iopub.execute_input": "2024-11-27T07:25:49.729412Z",
     "iopub.status.busy": "2024-11-27T07:25:49.729114Z",
     "iopub.status.idle": "2024-11-27T07:25:49.733656Z",
     "shell.execute_reply": "2024-11-27T07:25:49.732797Z"
    },
    "id": "B92Q871lkCCB",
    "papermill": {
     "duration": 0.013612,
     "end_time": "2024-11-27T07:25:49.735417",
     "exception": false,
     "start_time": "2024-11-27T07:25:49.721805",
     "status": "completed"
    },
    "tags": []
   },
   "outputs": [],
   "source": [
    "\n",
    "def train_critic(criticOptimizer, returns,state_values):\n",
    "        state_values= torch.stack(state_values).squeeze()\n",
    "\n",
    "        critic_loss=F.mse_loss(state_values,returns)\n",
    "\n",
    "        # Backpropagate crtic\n",
    "        criticOptimizer.zero_grad()\n",
    "        critic_loss.backward()\n",
    "        criticOptimizer.step()"
   ]
  },
  {
   "cell_type": "code",
   "execution_count": 19,
   "id": "d52d7a2b",
   "metadata": {
    "execution": {
     "iopub.execute_input": "2024-11-27T07:25:49.763432Z",
     "iopub.status.busy": "2024-11-27T07:25:49.762613Z",
     "iopub.status.idle": "2024-11-27T07:25:49.769003Z",
     "shell.execute_reply": "2024-11-27T07:25:49.768184Z"
    },
    "id": "dYI4v925kCCB",
    "papermill": {
     "duration": 0.015711,
     "end_time": "2024-11-27T07:25:49.770820",
     "exception": false,
     "start_time": "2024-11-27T07:25:49.755109",
     "status": "completed"
    },
    "tags": []
   },
   "outputs": [],
   "source": [
    "def Actor_Critic(actor,critic, actorOptimizer,criticOptimizer, n_training_episodes, max_t, gamma, print_every):\n",
    "    # Help us to calculate the score during the training\n",
    "    scores_deque = deque(maxlen=100)\n",
    "    scores = []\n",
    "\n",
    "    for i_episode in range(1, n_training_episodes+1):\n",
    "\n",
    "        # Generate an episode\n",
    "        saved_log_probs, rewards, state_values = generate_trajectory(actor, critic, max_t)\n",
    "        scores_deque.append(sum(rewards))\n",
    "        scores.append(sum(rewards))\n",
    "\n",
    "        # calculate the return\n",
    "        returns= computer_cumulative_reward(rewards,max_t,gamma)\n",
    "\n",
    "        ## standardization of the returns is employed to make training more stable\n",
    "        returns=returns_standardization(returns)\n",
    "\n",
    "        # Train the Critic network\n",
    "        train_critic(criticOptimizer, returns,state_values)\n",
    "        #add code here\n",
    "\n",
    "        # Train the Actor network\n",
    "        train_actor(actorOptimizer,saved_log_probs, returns,state_values)\n",
    "        #add code here\n",
    "\n",
    "\n",
    "\n",
    "        if i_episode % print_every == 0:\n",
    "            print('Episode {}\\tAverage Score: {:.2f}'.format(i_episode, np.mean(scores_deque)))\n",
    "\n",
    "    return scores"
   ]
  },
  {
   "cell_type": "code",
   "execution_count": 20,
   "id": "f9726400",
   "metadata": {
    "execution": {
     "iopub.execute_input": "2024-11-27T07:25:49.797897Z",
     "iopub.status.busy": "2024-11-27T07:25:49.797529Z",
     "iopub.status.idle": "2024-11-27T07:25:49.802018Z",
     "shell.execute_reply": "2024-11-27T07:25:49.801115Z"
    },
    "id": "QE1YFOawkCCC",
    "papermill": {
     "duration": 0.013925,
     "end_time": "2024-11-27T07:25:49.803683",
     "exception": false,
     "start_time": "2024-11-27T07:25:49.789758",
     "status": "completed"
    },
    "tags": []
   },
   "outputs": [],
   "source": [
    "cartpole_hyperparameters = {\n",
    "    \"h_size\": 64,\n",
    "    \"n_training_episodes\": 1000,\n",
    "    \"n_evaluation_episodes\": 10,\n",
    "    \"max_t\": 500,\n",
    "    \"gamma\": 1.0,\n",
    "    \"lr\": 1e-2,\n",
    "    \"env_id\": env_id,\n",
    "    \"state_space\": s_size,\n",
    "    \"action_space\": a_size,\n",
    "}"
   ]
  },
  {
   "cell_type": "code",
   "execution_count": 17,
   "id": "2338f831",
   "metadata": {
    "execution": {
     "iopub.execute_input": "2024-11-27T07:25:49.817257Z",
     "iopub.status.busy": "2024-11-27T07:25:49.816984Z",
     "iopub.status.idle": "2024-11-27T07:25:51.219608Z",
     "shell.execute_reply": "2024-11-27T07:25:51.218676Z"
    },
    "id": "934yqbQHkCCC",
    "papermill": {
     "duration": 1.411912,
     "end_time": "2024-11-27T07:25:51.221793",
     "exception": false,
     "start_time": "2024-11-27T07:25:49.809881",
     "status": "completed"
    },
    "tags": []
   },
   "outputs": [],
   "source": [
    "# Create actor and place it to the device\n",
    "cartpole_actor = Actor(cartpole_hyperparameters[\"state_space\"], cartpole_hyperparameters[\"action_space\"], cartpole_hyperparameters[\"h_size\"]).to(device)\n",
    "\n",
    "cartpole_actorOptimizer = optim.Adam(cartpole_actor.parameters(), lr=cartpole_hyperparameters[\"lr\"])"
   ]
  },
  {
   "cell_type": "code",
   "execution_count": 18,
   "id": "8c36a666",
   "metadata": {
    "execution": {
     "iopub.execute_input": "2024-11-27T07:25:51.236251Z",
     "iopub.status.busy": "2024-11-27T07:25:51.235845Z",
     "iopub.status.idle": "2024-11-27T07:25:51.241385Z",
     "shell.execute_reply": "2024-11-27T07:25:51.240519Z"
    },
    "id": "t4L8YuHOkCCC",
    "papermill": {
     "duration": 0.014386,
     "end_time": "2024-11-27T07:25:51.242999",
     "exception": false,
     "start_time": "2024-11-27T07:25:51.228613",
     "status": "completed"
    },
    "tags": []
   },
   "outputs": [],
   "source": [
    "# Create critic and place it to the device\n",
    "cartpole_critic = Critic(cartpole_hyperparameters[\"state_space\"], cartpole_hyperparameters[\"h_size\"]).to(device)\n",
    "cartpole_criticOptimizer = optim.Adam(cartpole_critic.parameters(), lr=cartpole_hyperparameters[\"lr\"])"
   ]
  },
  {
   "cell_type": "code",
   "execution_count": 21,
   "id": "0fbf2121",
   "metadata": {
    "execution": {
     "iopub.execute_input": "2024-11-27T07:25:51.256526Z",
     "iopub.status.busy": "2024-11-27T07:25:51.256299Z",
     "iopub.status.idle": "2024-11-27T07:38:33.979664Z",
     "shell.execute_reply": "2024-11-27T07:38:33.978664Z"
    },
    "id": "GhKZBRXEkCCD",
    "outputId": "bd1eb9fd-4e8f-4e0a-9a94-5fff68f6ffb2",
    "papermill": {
     "duration": 762.739041,
     "end_time": "2024-11-27T07:38:33.988330",
     "exception": false,
     "start_time": "2024-11-27T07:25:51.249289",
     "status": "completed"
    },
    "pycharm": {
     "is_executing": true
    },
    "tags": []
   },
   "outputs": [
    {
     "name": "stderr",
     "output_type": "stream",
     "text": [
      "/var/folders/f3/fnztj0dx7v58nbvbmkwh7df80000gn/T/ipykernel_2891/3061804092.py:10: UserWarning: To copy construct from a tensor, it is recommended to use sourceTensor.detach().clone() or sourceTensor.detach().clone().requires_grad_(True), rather than torch.tensor(sourceTensor).\n",
      "  advantages = torch.tensor(advantages).to(device)\n"
     ]
    },
    {
     "name": "stdout",
     "output_type": "stream",
     "text": [
      "Episode 100\tAverage Score: 110.45\n",
      "Episode 200\tAverage Score: 462.00\n",
      "Episode 300\tAverage Score: 357.83\n",
      "Episode 400\tAverage Score: 122.31\n",
      "Episode 500\tAverage Score: 386.77\n",
      "Episode 600\tAverage Score: 489.92\n",
      "Episode 700\tAverage Score: 456.82\n",
      "Episode 800\tAverage Score: 251.74\n",
      "Episode 900\tAverage Score: 427.83\n",
      "Episode 1000\tAverage Score: 498.17\n"
     ]
    }
   ],
   "source": [
    "scores = Actor_Critic(cartpole_actor,\n",
    "                   cartpole_critic,cartpole_actorOptimizer,cartpole_criticOptimizer,\n",
    "                   cartpole_hyperparameters[\"n_training_episodes\"],\n",
    "                   cartpole_hyperparameters[\"max_t\"],\n",
    "                   cartpole_hyperparameters[\"gamma\"],\n",
    "                   100)"
   ]
  },
  {
   "cell_type": "code",
   "execution_count": 22,
   "id": "ed643101",
   "metadata": {
    "execution": {
     "iopub.execute_input": "2024-11-27T07:38:34.003045Z",
     "iopub.status.busy": "2024-11-27T07:38:34.002741Z",
     "iopub.status.idle": "2024-11-27T07:38:34.022296Z",
     "shell.execute_reply": "2024-11-27T07:38:34.021603Z"
    },
    "id": "kMl4nQMekCCD",
    "outputId": "739735ac-d3f7-4c60-b2c1-90ee106d2bd2",
    "papermill": {
     "duration": 0.028724,
     "end_time": "2024-11-27T07:38:34.023812",
     "exception": false,
     "start_time": "2024-11-27T07:38:33.995088",
     "status": "completed"
    },
    "pycharm": {
     "is_executing": true
    },
    "tags": []
   },
   "outputs": [
    {
     "data": {
      "text/plain": [
       "count    1000.000000\n",
       "mean      356.384000\n",
       "std       179.588676\n",
       "min        10.000000\n",
       "25%       154.000000\n",
       "50%       500.000000\n",
       "75%       500.000000\n",
       "max       500.000000\n",
       "Name: scores_Actor, dtype: float64"
      ]
     },
     "execution_count": 22,
     "metadata": {},
     "output_type": "execute_result"
    }
   ],
   "source": [
    "scores= pd.Series(scores, name=\"scores_Actor\")\n",
    "scores.describe()"
   ]
  },
  {
   "cell_type": "code",
   "execution_count": 23,
   "id": "a899b05f",
   "metadata": {
    "execution": {
     "iopub.execute_input": "2024-11-27T07:38:34.039259Z",
     "iopub.status.busy": "2024-11-27T07:38:34.039029Z",
     "iopub.status.idle": "2024-11-27T07:38:34.362366Z",
     "shell.execute_reply": "2024-11-27T07:38:34.361504Z"
    },
    "id": "2qcWppJ4kCCD",
    "outputId": "82bc6572-2f97-449b-e72f-ca346c6c8e77",
    "papermill": {
     "duration": 0.33336,
     "end_time": "2024-11-27T07:38:34.364491",
     "exception": false,
     "start_time": "2024-11-27T07:38:34.031131",
     "status": "completed"
    },
    "pycharm": {
     "is_executing": true
    },
    "tags": []
   },
   "outputs": [
    {
     "data": {
      "image/png": "[encoded data removed]",
      "text/plain": [
       "<Figure size 640x480 with 1 Axes>"
      ]
     },
     "metadata": {},
     "output_type": "display_data"
    }
   ],
   "source": [
    "fig, ax = plt.subplots(1, 1)\n",
    "_ = scores.plot(ax=ax, label=\"scores_Actor\")\n",
    "_ = (scores.rolling(window=100)\n",
    "           .mean()\n",
    "           .rename(\"Rolling Average\")\n",
    "           .plot(ax=ax))\n",
    "ax.legend()\n",
    "_ = ax.set_xlabel(\"Episode Number\")\n",
    "_ = ax.set_ylabel(\"REWARDS\")"
   ]
  },
  {
   "cell_type": "code",
   "execution_count": 24,
   "id": "d4a36195",
   "metadata": {
    "execution": {
     "iopub.execute_input": "2024-11-27T07:38:34.382066Z",
     "iopub.status.busy": "2024-11-27T07:38:34.381765Z",
     "iopub.status.idle": "2024-11-27T07:38:34.388272Z",
     "shell.execute_reply": "2024-11-27T07:38:34.387574Z"
    },
    "id": "VAIOdTmGkCCD",
    "papermill": {
     "duration": 0.016835,
     "end_time": "2024-11-27T07:38:34.389868",
     "exception": false,
     "start_time": "2024-11-27T07:38:34.373033",
     "status": "completed"
    },
    "pycharm": {
     "is_executing": true
    },
    "tags": []
   },
   "outputs": [],
   "source": [
    "def evaluate_agent(actor, env, n_eval_episodes, max_t):\n",
    "  \"\"\"Evaluates the agent's performance.\n",
    "\n",
    "  Args:\n",
    "    actor: The trained actor network.\n",
    "    env: The Gym environment.\n",
    "    n_eval_episodes: The number of episodes to run for evaluation.\n",
    "    max_t: The maximum number of steps per episode.\n",
    "\n",
    "  Returns:\n",
    "    A tuple containing the average reward and the average number of steps.\n",
    "  \"\"\"\n",
    "  all_rewards = []\n",
    "  all_steps = []\n",
    "\n",
    "  for i_episode in range(1, n_eval_episodes + 1):\n",
    "    state, _ = env.reset()\n",
    "    episode_reward = 0\n",
    "    for t in range(max_t):\n",
    "      state = torch.from_numpy(state).float().unsqueeze(0).to(device)\n",
    "      action, _ = actor.act(state)\n",
    "      state, reward, done, _, _ = env.step(action)\n",
    "      episode_reward += reward\n",
    "      if done:\n",
    "        break\n",
    "    all_rewards.append(episode_reward)\n",
    "    all_steps.append(t + 1)  # Add 1 to count the last step\n",
    "\n",
    "  avg_reward = np.mean(all_rewards)\n",
    "  avg_steps = np.mean(all_steps)\n",
    "  print(f\"Evaluation over {n_eval_episodes} episodes:\")\n",
    "  print(f\"Average Reward: {avg_reward:.2f}\")\n",
    "  print(f\"Average Steps: {avg_steps:.2f}\")\n",
    "\n",
    "  return avg_reward, avg_steps"
   ]
  },
  {
   "cell_type": "code",
   "execution_count": 25,
   "id": "1a19b683",
   "metadata": {
    "execution": {
     "iopub.execute_input": "2024-11-27T07:38:34.406644Z",
     "iopub.status.busy": "2024-11-27T07:38:34.406374Z",
     "iopub.status.idle": "2024-11-27T07:38:43.975571Z",
     "shell.execute_reply": "2024-11-27T07:38:43.974500Z"
    },
    "id": "raaiwEVTvzwE",
    "outputId": "a8fd90e5-8090-48b9-816b-7b2e8eb3a94e",
    "papermill": {
     "duration": 9.590058,
     "end_time": "2024-11-27T07:38:43.987760",
     "exception": false,
     "start_time": "2024-11-27T07:38:34.397702",
     "status": "completed"
    },
    "tags": []
   },
   "outputs": [
    {
     "name": "stdout",
     "output_type": "stream",
     "text": [
      "Evaluation over 10 episodes:\n",
      "Average Reward: 481.60\n",
      "Average Steps: 481.60\n"
     ]
    }
   ],
   "source": [
    "avg_reward, avg_steps = evaluate_agent(cartpole_actor, env, cartpole_hyperparameters[\"n_evaluation_episodes\"], cartpole_hyperparameters[\"max_t\"])"
   ]
  },
  {
   "cell_type": "code",
   "execution_count": 26,
   "id": "140a8ffa",
   "metadata": {},
   "outputs": [
    {
     "name": "stderr",
     "output_type": "stream",
     "text": [
      "IMAGEIO FFMPEG_WRITER WARNING: input image is not divisible by macro_block_size=16, resizing from (600, 400) to (608, 400) to ensure video compatibility with most codecs and players. To prevent resizing, make your input image divisible by the macro_block_size or set the macro_block_size to 1 (risking incompatibility).\n"
     ]
    },
    {
     "name": "stdout",
     "output_type": "stream",
     "text": [
      "Video saved to videos/cartpole_a2c_demo-episode-2.mp4. Total reward: 498.0\n"
     ]
    }
   ],
   "source": [
    "import os\n",
    "import imageio\n",
    "\n",
    "# Ensure the videos directory exists\n",
    "video_dir = 'videos'\n",
    "os.makedirs(video_dir, exist_ok=True)\n",
    "\n",
    "# Create a new environment with render_mode='rgb_array' for video recording\n",
    "video_env = gym.make(env_id, render_mode='rgb_array')\n",
    "\n",
    "frames = []\n",
    "state, _ = video_env.reset()\n",
    "done = False\n",
    "total_reward = 0\n",
    "\n",
    "while not done:\n",
    "    state_tensor = torch.from_numpy(state).float().unsqueeze(0).to(device)\n",
    "    action, _ = cartpole_actor.act(state_tensor)\n",
    "    next_state, reward, terminated, truncated, _ = video_env.step(action)\n",
    "    total_reward += reward\n",
    "    frame = video_env.render()\n",
    "    frames.append(frame)\n",
    "    state = next_state\n",
    "    done = terminated or truncated\n",
    "\n",
    "video_env.close()\n",
    "\n",
    "# Save the video\n",
    "video_path = os.path.join(video_dir, 'cartpole_a2c_demo-episode-2.mp4')\n",
    "imageio.mimsave(video_path, frames, fps=300)\n",
    "print(f\"Video saved to {video_path}. Total reward: {total_reward}\")"
   ]
  }
 ],
 "metadata": {
  "accelerator": "GPU",
  "colab": {
   "gpuType": "T4",
   "provenance": []
  },
  "kaggle": {
   "accelerator": "none",
   "dataSources": [],
   "isGpuEnabled": false,
   "isInternetEnabled": true,
   "language": "python",
   "sourceType": "notebook"
  },
  "kernelspec": {
   "display_name": "learning",
   "language": "python",
   "name": "python3"
  },
  "language_info": {
   "codemirror_mode": {
    "name": "ipython",
    "version": 3
   },
   "file_extension": ".py",
   "mimetype": "text/x-python",
   "name": "python",
   "nbconvert_exporter": "python",
   "pygments_lexer": "ipython3",
   "version": "3.10.18"
  },
  "papermill": {
   "default_parameters": {},
   "duration": 850.3317,
   "end_time": "2024-11-27T07:38:45.434317",
   "environment_variables": {},
   "exception": null,
   "input_path": "__notebook__.ipynb",
   "output_path": "__notebook__.ipynb",
   "parameters": {},
   "start_time": "2024-11-27T07:24:35.102617",
   "version": "2.6.0"
  }
 },
 "nbformat": 4,
 "nbformat_minor": 5
}
